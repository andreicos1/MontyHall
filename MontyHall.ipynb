{
 "cells": [
  {
   "cell_type": "markdown",
   "metadata": {},
   "source": [
    "By Andrei C. Radu. 13/06/2020"
   ]
  },
  {
   "cell_type": "code",
   "execution_count": 61,
   "metadata": {},
   "outputs": [],
   "source": [
    "import random\n",
    "\n",
    "def montyHall():\n",
    "\n",
    "    while True :\n",
    "        doors = ['Goat','Goat','Car']\n",
    "        random.shuffle(doors)\n",
    "        labels = ['Door1',  'Door2', 'Door3']\n",
    "        print(labels, '\\n')\n",
    "\n",
    "        #code below to choose original door\n",
    "        pick = 4\n",
    "        while pick not in [1,2,3]:\n",
    "            try:\n",
    "                pick = int(input('Please pick a door by typing the corresponding number 1,2,3 '))\n",
    "                if pick not in [1,2,3]:\n",
    "                    print('Please select a number from 1 to 3 ')\n",
    "            except:\n",
    "                print('Only integers accepted ')\n",
    "        print(f'You picked door number {pick} ')\n",
    "\n",
    "\n",
    "        #code below to open one of the other doors, with a goat inside\n",
    "        door_count = [0,1,2]\n",
    "        door_count.remove(pick - 1)\n",
    "\n",
    "        open_door = random.choice(door_count)\n",
    "\n",
    "        if doors[open_door] == 'Car': #if we picked the door with the car, we just have to open the other door\n",
    "            open_door = 3 - pick + 1 - open_door #3 is 0+1+2 = 3 = sum of indexes\n",
    "\n",
    "        labels[open_door] =='goat'\n",
    "        print(f'\\nDoor number {open_door+1} opens, with a goat inside !\\n')\n",
    "        labels[open_door] = 'Goat'\n",
    "        print(labels)\n",
    "\n",
    "\n",
    "        #code to promt player whether he wants to switch doors or not\n",
    "        switch = input(f'\\nYou are going to open {labels[pick-1]} ! Would you like to switch ? Yes or No ? Any invalid answer will be considered a \"No\" ')\n",
    "        if switch[0].lower() == 'y':\n",
    "            last_door = 3 - pick + 1 - open_door\n",
    "            print('\\nYou decide to switch ! ')\n",
    "        else:\n",
    "            last_door = pick - 1\n",
    "            print('\\n You decide to stick with your initial choice ! ')\n",
    "\n",
    "\n",
    "        #outcome\n",
    "        print(f'Your final pick is {labels[last_door]}')\n",
    "        print(doors)\n",
    "        if doors[last_door] == 'Car':\n",
    "            print('\\n Congratulations ! You have won the grand prize !!! ')\n",
    "        else:\n",
    "            print(\"\\n You've won a goat ! Make sure to take good care of it !\")\n",
    "        \n",
    "        play_again = input(\"Would you like to play again ? Please input your answer as 'yes' or 'no'\")\n",
    "        if play_again[0].lower() == 'y':\n",
    "            continue\n",
    "        else:\n",
    "            break\n",
    "\n",
    "        "
   ]
  },
  {
   "cell_type": "code",
   "execution_count": 63,
   "metadata": {},
   "outputs": [
    {
     "name": "stdout",
     "output_type": "stream",
     "text": [
      "['Door1', 'Door2', 'Door3'] \n",
      "\n",
      "Please pick a door by typing the corresponding number 1,2,3 2\n",
      "You picked door number 2 \n",
      "\n",
      "Door number 3 opens, with a goat inside !\n",
      "\n",
      "['Door1', 'Door2', 'Goat']\n",
      "\n",
      "You are going to open Door2 ! Would you like to switch ? Yes or No ? Any invalid answer will be considered a \"No\" yes\n",
      "\n",
      "You decide to switch ! \n",
      "Your final pick is Door1\n",
      "['Car', 'Goat', 'Goat']\n",
      "\n",
      " Congratulations ! You have won the grand prize !!! \n",
      "Would you like to play again ? Please input your answer as 'yes' or 'no'no\n"
     ]
    }
   ],
   "source": [
    "montyHall()"
   ]
  },
  {
   "cell_type": "code",
   "execution_count": 95,
   "metadata": {},
   "outputs": [],
   "source": [
    "#this function will test the Monty Hall hypothesis, that switching doors improves the chances of winning the car from 1/3 to\n",
    "#2/3. We'll run this function 1 million times and check whether the car was won more often when the door was switched\n",
    "import random\n",
    "def testMontyHall(n):\n",
    "    \n",
    "    #initialize the variables\n",
    "    times_won_switched = 0\n",
    "    times_won_not_switched = 0\n",
    "    \n",
    "    for i in range(n): \n",
    "        doors = [0,0,1] # we don't need to shuffle, since every choice is random\n",
    "        positions = [0,1,2]\n",
    "\n",
    "\n",
    "        original = random.choice(positions)#pick an index at random\n",
    "        positions.pop(original) #pop it from the list of positions\n",
    "\n",
    "        to_open = random.choice(positions) #and pick a door to open from the remaining two\n",
    "        if doors[to_open] == 1:# if we choce a door with a car, switch doors\n",
    "            to_open = 3 - original - to_open #because the sum of indexes is 3, and by substracting other 2 elements we get the last \n",
    "        #we'll switch half of the time, when i is odd; also check whether we won\n",
    "        if i%2 !=0:\n",
    "            final = doors[3 - original - to_open]\n",
    "            if final == 1:\n",
    "                times_won_switched+=1\n",
    "        else:\n",
    "            final = doors[original]\n",
    "            if final == 1:\n",
    "                times_won_not_switched +=1 \n",
    "    print ('Out of ', n, 'trials, we have switched',n//2 ,'times, while', n//2, \"times we stuck with the original choice.\", \n",
    "           \"\\nWhen we didn't switch, we won\",times_won_not_switched, 'times:', \n",
    "           f'{times_won_not_switched/(n//2)*100:.2f}% win rate.'\n",
    "          '\\nWhen we did switch, we won', times_won_switched, 'times:',\n",
    "           f'{times_won_switched/(n//2)*100:.2f}% win rate.',\n",
    "           '\\nRatio of wins when we switched vs when we did not is',times_won_switched/times_won_not_switched )"
   ]
  },
  {
   "cell_type": "code",
   "execution_count": 96,
   "metadata": {},
   "outputs": [
    {
     "name": "stdout",
     "output_type": "stream",
     "text": [
      "Out of  1000000 trials, we have switched 500000 times, while 500000 times we stuck with the original choice. \n",
      "When we didn't switch, we won 166063 times: 33.21% win rate.\n",
      "When we did switch, we won 333508 times: 66.70% win rate. \n",
      "Ratio of wins when we switched vs when we did not is 2.008322142801226\n"
     ]
    }
   ],
   "source": [
    "testMontyHall(1000000)"
   ]
  },
  {
   "cell_type": "code",
   "execution_count": null,
   "metadata": {},
   "outputs": [],
   "source": []
  }
 ],
 "metadata": {
  "kernelspec": {
   "display_name": "Python 3",
   "language": "python",
   "name": "python3"
  },
  "language_info": {
   "codemirror_mode": {
    "name": "ipython",
    "version": 3
   },
   "file_extension": ".py",
   "mimetype": "text/x-python",
   "name": "python",
   "nbconvert_exporter": "python",
   "pygments_lexer": "ipython3",
   "version": "3.7.6"
  }
 },
 "nbformat": 4,
 "nbformat_minor": 4
}
